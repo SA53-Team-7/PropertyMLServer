{
 "cells": [
  {
   "cell_type": "code",
   "execution_count": 1,
   "metadata": {},
   "outputs": [],
   "source": [
    "# import packages\n",
    "import pandas as pd\n",
    "import numpy as np\n",
    "from sklearn.linear_model import LinearRegression"
   ]
  },
  {
   "cell_type": "code",
   "execution_count": null,
   "metadata": {},
   "outputs": [],
   "source": [
    "# use pandas to import the csv file\n",
    "df = pd.read_csv('transaction.csv',sep=\";\")\n",
    "df.head(10) # show the first 10 pairs"
   ]
  },
  {
   "cell_type": "code",
   "execution_count": 3,
   "metadata": {},
   "outputs": [],
   "source": [
    "# data processing\n",
    "def contract_month(x):\n",
    "    x=str(x)\n",
    "    return int(x[:-2])\n",
    "\n",
    "def contract_year(x):\n",
    "    x=str(x)\n",
    "    return int(x[-2:])\n",
    "\n",
    "def floor_range(x):\n",
    "    if (x=='-'):\n",
    "        return 1\n",
    "    else:\n",
    "        y=x.split(\"-\")[0]\n",
    "        if (y.isdigit() == True):\n",
    "            return int(y)\n",
    "        else:\n",
    "            return 0\n",
    "\n",
    "\n",
    "def floor_area_per_unit():\n",
    "    df['floor_area_per_unit'] = df['floor_area'] / df['no_of_units']\n",
    "\n",
    "def price_per_unit():\n",
    "    df['price_per_unit'] = df['price'] / df['no_of_units']\n",
    "    df['unit_price_per_unit'] = df['price'] / df['floor_area']\n",
    "\n",
    "def top(x):\n",
    "    x=str(x)\n",
    "    if(x == 'Freehold'):\n",
    "        return 0\n",
    "    else:\n",
    "        return int(x[-4:])\n",
    "\n",
    "def tenure_(x):\n",
    "    x=str(x)\n",
    "    if(x == 'Freehold'):\n",
    "        return 999999\n",
    "    else:\n",
    "        return int(x.split(\" \")[0])\n",
    "\n",
    "\n",
    "df['contract_month'] = df['contract_date'].apply(contract_month)\n",
    "df['contract_year'] = df['contract_date'].apply(contract_year)\n",
    "df['floor_range'] = df['floor_range'].apply(floor_range)\n",
    "floor_area_per_unit()\n",
    "price_per_unit()\n",
    "df.dropna(axis=0, inplace=True)\n",
    "df['top'] = df['tenure'].apply(top)\n",
    "df['tenure_'] = df['tenure'].apply(tenure_)\n"
   ]
  },
  {
   "cell_type": "code",
   "execution_count": null,
   "metadata": {},
   "outputs": [],
   "source": [
    "# check whether missing data exists\n",
    "df[df.isna().T.any()]"
   ]
  },
  {
   "cell_type": "code",
   "execution_count": null,
   "metadata": {},
   "outputs": [],
   "source": [
    "# check the data processing between top years and tenure \n",
    "df1=df[['project_project_id','top',\t'tenure_']]\n",
    "df1.groupby('project_project_id').nunique().sort_values(['top'], ascending = False)"
   ]
  },
  {
   "cell_type": "code",
   "execution_count": 6,
   "metadata": {},
   "outputs": [],
   "source": [
    "# set x(feature) and y(label)\n",
    "x=df[['project_project_id','district','floor_area_per_unit','floor_range','top','tenure_','contract_year','contract_month','sale_type']]\n",
    "y=df[['price_per_unit']]\n"
   ]
  },
  {
   "cell_type": "code",
   "execution_count": null,
   "metadata": {},
   "outputs": [],
   "source": [
    "# instantiate\n",
    "linReg = LinearRegression()\n",
    "\n",
    "# fit out multiple linear model to the train set data\n",
    "linReg.fit(x, y)"
   ]
  },
  {
   "cell_type": "code",
   "execution_count": null,
   "metadata": {},
   "outputs": [],
   "source": [
    "# print the intercept and coefficients\n",
    "print(linReg.intercept_)\n",
    "print(linReg.coef_)\n",
    "\n",
    "# model validation\n",
    "print(linReg.score(x, y))"
   ]
  },
  {
   "cell_type": "code",
   "execution_count": null,
   "metadata": {},
   "outputs": [],
   "source": [
    "# use joblib for model dump, load and prediction\n",
    "from joblib import dump, load\n",
    "filename = 'outputs/resale_model.pkl'\n",
    "dump(linReg, filename)\n",
    "loaded_model=load(filename)\n",
    "y=loaded_model.predict(np.array([[3,4,194,1,2007,99,22,5,3]]))\n",
    "print(y)"
   ]
  }
 ],
 "metadata": {
  "interpreter": {
   "hash": "8c4aaadf913e60f2c06022d8c17ff2c7b144de1e1057a3cb7057cc7781dfc3c6"
  },
  "kernelspec": {
   "display_name": "Python 3.7.9 64-bit ('python37_venv': venv)",
   "language": "python",
   "name": "python3"
  },
  "language_info": {
   "codemirror_mode": {
    "name": "ipython",
    "version": 3
   },
   "file_extension": ".py",
   "mimetype": "text/x-python",
   "name": "python",
   "nbconvert_exporter": "python",
   "pygments_lexer": "ipython3",
   "version": "3.8.8"
  },
  "orig_nbformat": 4
 },
 "nbformat": 4,
 "nbformat_minor": 2
}
