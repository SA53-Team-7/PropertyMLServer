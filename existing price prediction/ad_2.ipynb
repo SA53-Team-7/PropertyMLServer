{
 "cells": [
  {
   "cell_type": "code",
   "execution_count": 1,
   "metadata": {},
   "outputs": [],
   "source": [
    "import pandas as pd\n",
    "import numpy as np\n",
    "import tensorflow as tf\n",
    "import matplotlib.pyplot as plt\n",
    "import seaborn as sb\n",
    "\n",
    "\n",
    "\n",
    "from sklearn.preprocessing import StandardScaler\n",
    "from sklearn.preprocessing import LabelEncoder\n",
    "from sklearn.model_selection import train_test_split\n",
    "from sklearn.decomposition import PCA\n",
    "from sklearn.linear_model import LinearRegression\n"
   ]
  },
  {
   "cell_type": "code",
   "execution_count": 2,
   "metadata": {},
   "outputs": [
    {
     "data": {
      "text/html": [
       "<div>\n",
       "<style scoped>\n",
       "    .dataframe tbody tr th:only-of-type {\n",
       "        vertical-align: middle;\n",
       "    }\n",
       "\n",
       "    .dataframe tbody tr th {\n",
       "        vertical-align: top;\n",
       "    }\n",
       "\n",
       "    .dataframe thead th {\n",
       "        text-align: right;\n",
       "    }\n",
       "</style>\n",
       "<table border=\"1\" class=\"dataframe\">\n",
       "  <thead>\n",
       "    <tr style=\"text-align: right;\">\n",
       "      <th></th>\n",
       "      <th>txn_id</th>\n",
       "      <th>area_type</th>\n",
       "      <th>contract_date</th>\n",
       "      <th>district</th>\n",
       "      <th>floor_area</th>\n",
       "      <th>floor_range</th>\n",
       "      <th>no_of_units</th>\n",
       "      <th>price</th>\n",
       "      <th>prop_type</th>\n",
       "      <th>sale_type</th>\n",
       "      <th>tenure</th>\n",
       "      <th>project_project_id</th>\n",
       "    </tr>\n",
       "  </thead>\n",
       "  <tbody>\n",
       "    <tr>\n",
       "      <th>0</th>\n",
       "      <td>1</td>\n",
       "      <td>Land</td>\n",
       "      <td>220</td>\n",
       "      <td>5</td>\n",
       "      <td>524.3</td>\n",
       "      <td>-</td>\n",
       "      <td>1</td>\n",
       "      <td>5500000.0</td>\n",
       "      <td>Semi-detached</td>\n",
       "      <td>3</td>\n",
       "      <td>Freehold</td>\n",
       "      <td>1</td>\n",
       "    </tr>\n",
       "    <tr>\n",
       "      <th>1</th>\n",
       "      <td>2</td>\n",
       "      <td>Land</td>\n",
       "      <td>918</td>\n",
       "      <td>5</td>\n",
       "      <td>308.0</td>\n",
       "      <td>-</td>\n",
       "      <td>1</td>\n",
       "      <td>5000000.0</td>\n",
       "      <td>Semi-detached</td>\n",
       "      <td>3</td>\n",
       "      <td>Freehold</td>\n",
       "      <td>1</td>\n",
       "    </tr>\n",
       "    <tr>\n",
       "      <th>2</th>\n",
       "      <td>3</td>\n",
       "      <td>Land</td>\n",
       "      <td>618</td>\n",
       "      <td>5</td>\n",
       "      <td>314.0</td>\n",
       "      <td>-</td>\n",
       "      <td>1</td>\n",
       "      <td>4750000.0</td>\n",
       "      <td>Semi-detached</td>\n",
       "      <td>3</td>\n",
       "      <td>Freehold</td>\n",
       "      <td>1</td>\n",
       "    </tr>\n",
       "    <tr>\n",
       "      <th>3</th>\n",
       "      <td>4</td>\n",
       "      <td>Land</td>\n",
       "      <td>921</td>\n",
       "      <td>5</td>\n",
       "      <td>308.0</td>\n",
       "      <td>-</td>\n",
       "      <td>1</td>\n",
       "      <td>5200000.0</td>\n",
       "      <td>Semi-detached</td>\n",
       "      <td>3</td>\n",
       "      <td>Freehold</td>\n",
       "      <td>1</td>\n",
       "    </tr>\n",
       "    <tr>\n",
       "      <th>4</th>\n",
       "      <td>5</td>\n",
       "      <td>Strata</td>\n",
       "      <td>321</td>\n",
       "      <td>5</td>\n",
       "      <td>186.0</td>\n",
       "      <td>-</td>\n",
       "      <td>1</td>\n",
       "      <td>1880000.0</td>\n",
       "      <td>Strata Terrace</td>\n",
       "      <td>3</td>\n",
       "      <td>Freehold</td>\n",
       "      <td>2</td>\n",
       "    </tr>\n",
       "    <tr>\n",
       "      <th>5</th>\n",
       "      <td>6</td>\n",
       "      <td>Land</td>\n",
       "      <td>320</td>\n",
       "      <td>5</td>\n",
       "      <td>159.3</td>\n",
       "      <td>-</td>\n",
       "      <td>1</td>\n",
       "      <td>2630000.0</td>\n",
       "      <td>Terrace</td>\n",
       "      <td>3</td>\n",
       "      <td>Freehold</td>\n",
       "      <td>2</td>\n",
       "    </tr>\n",
       "    <tr>\n",
       "      <th>6</th>\n",
       "      <td>7</td>\n",
       "      <td>Strata</td>\n",
       "      <td>521</td>\n",
       "      <td>4</td>\n",
       "      <td>194.0</td>\n",
       "      <td>01-05</td>\n",
       "      <td>1</td>\n",
       "      <td>2793790.0</td>\n",
       "      <td>Condominium</td>\n",
       "      <td>3</td>\n",
       "      <td>99 yrs lease commencing from 2007</td>\n",
       "      <td>3</td>\n",
       "    </tr>\n",
       "    <tr>\n",
       "      <th>7</th>\n",
       "      <td>8</td>\n",
       "      <td>Strata</td>\n",
       "      <td>721</td>\n",
       "      <td>4</td>\n",
       "      <td>194.0</td>\n",
       "      <td>01-05</td>\n",
       "      <td>1</td>\n",
       "      <td>3240240.0</td>\n",
       "      <td>Condominium</td>\n",
       "      <td>3</td>\n",
       "      <td>99 yrs lease commencing from 2007</td>\n",
       "      <td>3</td>\n",
       "    </tr>\n",
       "    <tr>\n",
       "      <th>8</th>\n",
       "      <td>9</td>\n",
       "      <td>Strata</td>\n",
       "      <td>721</td>\n",
       "      <td>4</td>\n",
       "      <td>195.0</td>\n",
       "      <td>01-05</td>\n",
       "      <td>1</td>\n",
       "      <td>3125000.0</td>\n",
       "      <td>Condominium</td>\n",
       "      <td>3</td>\n",
       "      <td>99 yrs lease commencing from 2007</td>\n",
       "      <td>3</td>\n",
       "    </tr>\n",
       "    <tr>\n",
       "      <th>9</th>\n",
       "      <td>10</td>\n",
       "      <td>Strata</td>\n",
       "      <td>521</td>\n",
       "      <td>4</td>\n",
       "      <td>194.0</td>\n",
       "      <td>01-05</td>\n",
       "      <td>1</td>\n",
       "      <td>3178150.0</td>\n",
       "      <td>Condominium</td>\n",
       "      <td>3</td>\n",
       "      <td>99 yrs lease commencing from 2007</td>\n",
       "      <td>3</td>\n",
       "    </tr>\n",
       "  </tbody>\n",
       "</table>\n",
       "</div>"
      ],
      "text/plain": [
       "   txn_id area_type  contract_date  district  floor_area floor_range  \\\n",
       "0       1      Land            220         5       524.3           -   \n",
       "1       2      Land            918         5       308.0           -   \n",
       "2       3      Land            618         5       314.0           -   \n",
       "3       4      Land            921         5       308.0           -   \n",
       "4       5    Strata            321         5       186.0           -   \n",
       "5       6      Land            320         5       159.3           -   \n",
       "6       7    Strata            521         4       194.0       01-05   \n",
       "7       8    Strata            721         4       194.0       01-05   \n",
       "8       9    Strata            721         4       195.0       01-05   \n",
       "9      10    Strata            521         4       194.0       01-05   \n",
       "\n",
       "   no_of_units      price       prop_type  sale_type  \\\n",
       "0            1  5500000.0   Semi-detached          3   \n",
       "1            1  5000000.0   Semi-detached          3   \n",
       "2            1  4750000.0   Semi-detached          3   \n",
       "3            1  5200000.0   Semi-detached          3   \n",
       "4            1  1880000.0  Strata Terrace          3   \n",
       "5            1  2630000.0         Terrace          3   \n",
       "6            1  2793790.0     Condominium          3   \n",
       "7            1  3240240.0     Condominium          3   \n",
       "8            1  3125000.0     Condominium          3   \n",
       "9            1  3178150.0     Condominium          3   \n",
       "\n",
       "                              tenure  project_project_id  \n",
       "0                           Freehold                   1  \n",
       "1                           Freehold                   1  \n",
       "2                           Freehold                   1  \n",
       "3                           Freehold                   1  \n",
       "4                           Freehold                   2  \n",
       "5                           Freehold                   2  \n",
       "6  99 yrs lease commencing from 2007                   3  \n",
       "7  99 yrs lease commencing from 2007                   3  \n",
       "8  99 yrs lease commencing from 2007                   3  \n",
       "9  99 yrs lease commencing from 2007                   3  "
      ]
     },
     "execution_count": 2,
     "metadata": {},
     "output_type": "execute_result"
    }
   ],
   "source": [
    "df = pd.read_csv('transaction.csv',sep=\";\")\n",
    "df.head(10)"
   ]
  },
  {
   "cell_type": "code",
   "execution_count": 3,
   "metadata": {},
   "outputs": [],
   "source": [
    "def contract_month(x):\n",
    "    x=str(x)\n",
    "    return int(x[:-2])\n",
    "\n",
    "def contract_year(x):\n",
    "    x=str(x)\n",
    "    return int(x[-2:])\n",
    "\n",
    "def floor_range(x):\n",
    "    if (x=='-'):\n",
    "        return 1\n",
    "    else:\n",
    "        y=x.split(\"-\")[0]\n",
    "        if (y.isdigit() == True):\n",
    "            return int(y)\n",
    "        else:\n",
    "            return 0\n",
    "\n",
    "\n",
    "def floor_area_per_unit():\n",
    "    df['floor_area_per_unit'] = df['floor_area'] / df['no_of_units']\n",
    "\n",
    "def price_per_unit():\n",
    "    df['price_per_unit'] = df['price'] / df['no_of_units']\n",
    "    df['unit_price_per_unit'] = df['price'] / df['floor_area']\n",
    "\n",
    "def top(x):\n",
    "    x=str(x)\n",
    "    if(x == 'Freehold'):\n",
    "        return 0\n",
    "    else:\n",
    "        return int(x[-4:])\n",
    "\n",
    "def tenure_(x):\n",
    "    x=str(x)\n",
    "    if(x == 'Freehold'):\n",
    "        return 999999\n",
    "    else:\n",
    "        return int(x.split(\" \")[0])\n",
    "\n",
    "\n",
    "df['contract_month'] = df['contract_date'].apply(contract_month)\n",
    "df['contract_year'] = df['contract_date'].apply(contract_year)\n",
    "df['floor_range'] = df['floor_range'].apply(floor_range)\n",
    "floor_area_per_unit()\n",
    "price_per_unit()\n",
    "df.dropna(axis=0, inplace=True)\n",
    "# df['tenure'].fillna(method='ffill',axis=0,inplace = True)\n",
    "df['top'] = df['tenure'].apply(top)\n",
    "df['tenure_'] = df['tenure'].apply(tenure_)\n"
   ]
  },
  {
   "cell_type": "code",
   "execution_count": 4,
   "metadata": {},
   "outputs": [],
   "source": [
    "# df.head(50)"
   ]
  },
  {
   "cell_type": "code",
   "execution_count": 5,
   "metadata": {},
   "outputs": [
    {
     "data": {
      "text/html": [
       "<div>\n",
       "<style scoped>\n",
       "    .dataframe tbody tr th:only-of-type {\n",
       "        vertical-align: middle;\n",
       "    }\n",
       "\n",
       "    .dataframe tbody tr th {\n",
       "        vertical-align: top;\n",
       "    }\n",
       "\n",
       "    .dataframe thead th {\n",
       "        text-align: right;\n",
       "    }\n",
       "</style>\n",
       "<table border=\"1\" class=\"dataframe\">\n",
       "  <thead>\n",
       "    <tr style=\"text-align: right;\">\n",
       "      <th></th>\n",
       "      <th>txn_id</th>\n",
       "      <th>area_type</th>\n",
       "      <th>contract_date</th>\n",
       "      <th>district</th>\n",
       "      <th>floor_area</th>\n",
       "      <th>floor_range</th>\n",
       "      <th>no_of_units</th>\n",
       "      <th>price</th>\n",
       "      <th>prop_type</th>\n",
       "      <th>sale_type</th>\n",
       "      <th>tenure</th>\n",
       "      <th>project_project_id</th>\n",
       "      <th>contract_month</th>\n",
       "      <th>contract_year</th>\n",
       "      <th>floor_area_per_unit</th>\n",
       "      <th>price_per_unit</th>\n",
       "      <th>unit_price_per_unit</th>\n",
       "      <th>top</th>\n",
       "      <th>tenure_</th>\n",
       "    </tr>\n",
       "  </thead>\n",
       "  <tbody>\n",
       "  </tbody>\n",
       "</table>\n",
       "</div>"
      ],
      "text/plain": [
       "Empty DataFrame\n",
       "Columns: [txn_id, area_type, contract_date, district, floor_area, floor_range, no_of_units, price, prop_type, sale_type, tenure, project_project_id, contract_month, contract_year, floor_area_per_unit, price_per_unit, unit_price_per_unit, top, tenure_]\n",
       "Index: []"
      ]
     },
     "execution_count": 5,
     "metadata": {},
     "output_type": "execute_result"
    }
   ],
   "source": [
    "df[df.isna().T.any()]"
   ]
  },
  {
   "cell_type": "code",
   "execution_count": 6,
   "metadata": {},
   "outputs": [
    {
     "data": {
      "text/html": [
       "<div>\n",
       "<style scoped>\n",
       "    .dataframe tbody tr th:only-of-type {\n",
       "        vertical-align: middle;\n",
       "    }\n",
       "\n",
       "    .dataframe tbody tr th {\n",
       "        vertical-align: top;\n",
       "    }\n",
       "\n",
       "    .dataframe thead th {\n",
       "        text-align: right;\n",
       "    }\n",
       "</style>\n",
       "<table border=\"1\" class=\"dataframe\">\n",
       "  <thead>\n",
       "    <tr style=\"text-align: right;\">\n",
       "      <th></th>\n",
       "      <th>top</th>\n",
       "      <th>tenure_</th>\n",
       "    </tr>\n",
       "    <tr>\n",
       "      <th>project_project_id</th>\n",
       "      <th></th>\n",
       "      <th></th>\n",
       "    </tr>\n",
       "  </thead>\n",
       "  <tbody>\n",
       "    <tr>\n",
       "      <th>2408</th>\n",
       "      <td>5</td>\n",
       "      <td>3</td>\n",
       "    </tr>\n",
       "    <tr>\n",
       "      <th>169</th>\n",
       "      <td>4</td>\n",
       "      <td>3</td>\n",
       "    </tr>\n",
       "    <tr>\n",
       "      <th>2273</th>\n",
       "      <td>4</td>\n",
       "      <td>3</td>\n",
       "    </tr>\n",
       "    <tr>\n",
       "      <th>3285</th>\n",
       "      <td>4</td>\n",
       "      <td>2</td>\n",
       "    </tr>\n",
       "    <tr>\n",
       "      <th>4024</th>\n",
       "      <td>3</td>\n",
       "      <td>1</td>\n",
       "    </tr>\n",
       "    <tr>\n",
       "      <th>...</th>\n",
       "      <td>...</td>\n",
       "      <td>...</td>\n",
       "    </tr>\n",
       "    <tr>\n",
       "      <th>1383</th>\n",
       "      <td>1</td>\n",
       "      <td>1</td>\n",
       "    </tr>\n",
       "    <tr>\n",
       "      <th>1384</th>\n",
       "      <td>1</td>\n",
       "      <td>1</td>\n",
       "    </tr>\n",
       "    <tr>\n",
       "      <th>1385</th>\n",
       "      <td>1</td>\n",
       "      <td>1</td>\n",
       "    </tr>\n",
       "    <tr>\n",
       "      <th>1386</th>\n",
       "      <td>1</td>\n",
       "      <td>1</td>\n",
       "    </tr>\n",
       "    <tr>\n",
       "      <th>4094</th>\n",
       "      <td>1</td>\n",
       "      <td>1</td>\n",
       "    </tr>\n",
       "  </tbody>\n",
       "</table>\n",
       "<p>4094 rows × 2 columns</p>\n",
       "</div>"
      ],
      "text/plain": [
       "                    top  tenure_\n",
       "project_project_id              \n",
       "2408                  5        3\n",
       "169                   4        3\n",
       "2273                  4        3\n",
       "3285                  4        2\n",
       "4024                  3        1\n",
       "...                 ...      ...\n",
       "1383                  1        1\n",
       "1384                  1        1\n",
       "1385                  1        1\n",
       "1386                  1        1\n",
       "4094                  1        1\n",
       "\n",
       "[4094 rows x 2 columns]"
      ]
     },
     "execution_count": 6,
     "metadata": {},
     "output_type": "execute_result"
    }
   ],
   "source": [
    "df1=df[['project_project_id','top',\t'tenure_']]\n",
    "df1.groupby('project_project_id').nunique().sort_values(['top'], ascending = False)"
   ]
  },
  {
   "cell_type": "code",
   "execution_count": 7,
   "metadata": {},
   "outputs": [],
   "source": [
    "x=df[['project_project_id','district','floor_area_per_unit','floor_range','top','tenure_','contract_year','contract_month']]\n",
    "# x=df[['project_project_id','district','floor_area_per_unit','floor_range','top','tenure_']]\n",
    "y=df[['price_per_unit']]\n"
   ]
  },
  {
   "cell_type": "code",
   "execution_count": 8,
   "metadata": {},
   "outputs": [
    {
     "data": {
      "text/plain": [
       "LinearRegression()"
      ]
     },
     "execution_count": 8,
     "metadata": {},
     "output_type": "execute_result"
    }
   ],
   "source": [
    "linReg = LinearRegression()\n",
    "linReg.fit(x, y)"
   ]
  },
  {
   "cell_type": "code",
   "execution_count": 9,
   "metadata": {},
   "outputs": [
    {
     "name": "stdout",
     "output_type": "stream",
     "text": [
      "[-3109478.13338569]\n",
      "[[-4.42632956e+01 -3.24768684e+04  1.45344777e+04  1.95830169e+04\n",
      "   9.74118866e+02  2.33792929e+00  7.84672598e+04  7.16671171e+03]]\n",
      "0.7477104944401498\n"
     ]
    }
   ],
   "source": [
    "print(linReg.intercept_)\n",
    "print(linReg.coef_)\n",
    "print(linReg.score(x, y))"
   ]
  },
  {
   "cell_type": "code",
   "execution_count": 10,
   "metadata": {},
   "outputs": [],
   "source": [
    "x_pred = np.array([[3,4,194,1,2007,99,22,5]])\n",
    "# x_pred = np.array([[1,5,524.3,1,0,0,20,2]])\n",
    "# x_pred = np.array([[225,4,370,21,2009,99,20,7]])\n"
   ]
  },
  {
   "cell_type": "code",
   "execution_count": 11,
   "metadata": {},
   "outputs": [
    {
     "data": {
      "text/plain": [
       "array([[3317154.57834436]])"
      ]
     },
     "execution_count": 11,
     "metadata": {},
     "output_type": "execute_result"
    }
   ],
   "source": [
    "y_predict=linReg.predict(x_pred)\n",
    "y_predict"
   ]
  },
  {
   "cell_type": "code",
   "execution_count": 14,
   "metadata": {},
   "outputs": [
    {
     "data": {
      "text/plain": [
       "['model.joblib']"
      ]
     },
     "execution_count": 14,
     "metadata": {},
     "output_type": "execute_result"
    }
   ],
   "source": [
    "from joblib import dump, load\n",
    "dump(linReg, 'model.joblib')"
   ]
  },
  {
   "cell_type": "code",
   "execution_count": 15,
   "metadata": {},
   "outputs": [
    {
     "data": {
      "text/plain": [
       "array([[3317154.57834436]])"
      ]
     },
     "execution_count": 15,
     "metadata": {},
     "output_type": "execute_result"
    }
   ],
   "source": [
    "model_in = load('model.joblib')\n",
    "model_in.predict(np.array([[3,4,194,1,2007,99,22,5]]))"
   ]
  }
 ],
 "metadata": {
  "interpreter": {
   "hash": "8c4aaadf913e60f2c06022d8c17ff2c7b144de1e1057a3cb7057cc7781dfc3c6"
  },
  "kernelspec": {
   "display_name": "Python 3.7.9 64-bit ('python37_venv': venv)",
   "language": "python",
   "name": "python3"
  },
  "language_info": {
   "codemirror_mode": {
    "name": "ipython",
    "version": 3
   },
   "file_extension": ".py",
   "mimetype": "text/x-python",
   "name": "python",
   "nbconvert_exporter": "python",
   "pygments_lexer": "ipython3",
   "version": "3.8.8"
  },
  "orig_nbformat": 4
 },
 "nbformat": 4,
 "nbformat_minor": 2
}
