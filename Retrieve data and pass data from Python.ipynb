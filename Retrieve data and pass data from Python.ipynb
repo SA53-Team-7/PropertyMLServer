{
 "cells": [
  {
   "cell_type": "code",
   "execution_count": null,
   "id": "4252b31e",
   "metadata": {},
   "outputs": [],
   "source": [
    "import requests\n",
    "from flask import Flask, jsonify, request\n",
    "\n",
    "app = Flask(__name__)\n",
    "\n",
    "@app.route('/url')  # this url can pass data to web/mobile app. http://127.0.0.1:5000/url\n",
    "def get_data():\n",
    "    sth = requests.get('http://localhost:8080/api/v1/employees/1')  # can retrieve data from this url\n",
    "    lastName = sth.json().get(\"lastName\")  # \"sth\" is a dict\n",
    "    # here can process the retrieved data\n",
    "    return lastName\n",
    "\n",
    "if __name__ == '__main__':\n",
    "    app.run()"
   ]
  },
  {
   "cell_type": "code",
   "execution_count": null,
   "id": "b9c60c70",
   "metadata": {},
   "outputs": [],
   "source": []
  },
  {
   "cell_type": "code",
   "execution_count": null,
   "id": "740f35a2",
   "metadata": {},
   "outputs": [],
   "source": []
  },
  {
   "cell_type": "code",
   "execution_count": null,
   "id": "511bf6d9",
   "metadata": {},
   "outputs": [],
   "source": []
  },
  {
   "cell_type": "code",
   "execution_count": null,
   "id": "eade5867",
   "metadata": {},
   "outputs": [],
   "source": [
    "# get data from database\n",
    "# https://www.youtube.com/watch?v=yTbKm_6PsxY"
   ]
  },
  {
   "cell_type": "code",
   "execution_count": null,
   "id": "19729af7",
   "metadata": {},
   "outputs": [
    {
     "name": "stdout",
     "output_type": "stream",
     "text": [
      " * Serving Flask app \"__main__\" (lazy loading)\n",
      " * Environment: production\n",
      "   WARNING: This is a development server. Do not use it in a production deployment.\n",
      "   Use a production WSGI server instead.\n",
      " * Debug mode: off\n"
     ]
    },
    {
     "name": "stderr",
     "output_type": "stream",
     "text": [
      " * Running on http://127.0.0.1:5000/ (Press CTRL+C to quit)\n",
      "127.0.0.1 - - [05/Feb/2022 10:15:50] \"\u001b[37mGET /url HTTP/1.1\u001b[0m\" 200 -\n"
     ]
    }
   ],
   "source": []
  },
  {
   "cell_type": "code",
   "execution_count": null,
   "id": "237ec17c",
   "metadata": {},
   "outputs": [],
   "source": []
  }
 ],
 "metadata": {
  "kernelspec": {
   "display_name": "Python 3",
   "language": "python",
   "name": "python3"
  },
  "language_info": {
   "codemirror_mode": {
    "name": "ipython",
    "version": 3
   },
   "file_extension": ".py",
   "mimetype": "text/x-python",
   "name": "python",
   "nbconvert_exporter": "python",
   "pygments_lexer": "ipython3",
   "version": "3.8.8"
  }
 },
 "nbformat": 4,
 "nbformat_minor": 5
}
